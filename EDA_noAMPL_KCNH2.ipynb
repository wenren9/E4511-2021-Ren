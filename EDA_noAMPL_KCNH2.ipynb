{
  "nbformat": 4,
  "nbformat_minor": 0,
  "metadata": {
    "colab": {
      "name": "EDA_noAMPL_KCNH2.ipynb",
      "provenance": [],
      "collapsed_sections": [
        "KE5g6pelTr3S",
        "EnbxsDczT7nx",
        "ZhbDsHb1Uf8Y",
        "daaIPMHmUuDr",
        "b6ZpBm-n-GvC",
        "FSU3n2TZ0KKK",
        "WcLf97G8W0D6",
        "_RpY3ZapzKSz",
        "Xc2yCBKB8LwL",
        "fATSy8Tg9s1y",
        "BFw18pjj_KV_",
        "R27J-j8V4pJJ",
        "n09fMB0BFQSp",
        "ZF5p-8yo1mvn",
        "AxgJzcg-WbWq",
        "MgURrDBafLkX",
        "WVefoYj_yH7W",
        "ZZbjJGxXrHRS",
        "fYRwB3YtrjXD",
        "C1PpdlCzWprz",
        "WmzIqjLVr5iA",
        "2LJS3rpSx0tt",
        "WgARGg6Aicny"
      ],
      "include_colab_link": true
    },
    "kernelspec": {
      "name": "python3",
      "display_name": "Python 3"
    }
  },
  "cells": [
    {
      "cell_type": "markdown",
      "metadata": {
        "id": "view-in-github",
        "colab_type": "text"
      },
      "source": [
        "<a href=\"https://colab.research.google.com/github/wenren9/E4511-2021-Ren/blob/main/EDA_noAMPL_KCNH2.ipynb\" target=\"_parent\"><img src=\"https://colab.research.google.com/assets/colab-badge.svg\" alt=\"Open In Colab\"/></a>"
      ]
    },
    {
      "cell_type": "markdown",
      "metadata": {
        "id": "KE5g6pelTr3S"
      },
      "source": [
        "# Exploratory data analysis\n",
        "In this notebook we will analyze assay measurements and molecules for datasets from Chembl, DTC and Excape.\n",
        "1. ***COPY*** this notebook into your own google drive. Work and edit from that one\n",
        "2. Add the Columbia_E4511 folder to your google drive\n",
        "3. For homework, you will work on this entire notebook for your own targets. Download them here:\n",
        "  - https://www.ebi.ac.uk/chembl/\n",
        "  - https://drugtargetcommons.fimm.fi/\n",
        "  - https://solr.ideaconsult.net/search/excape/"
      ]
    },
    {
      "cell_type": "markdown",
      "metadata": {
        "id": "EnbxsDczT7nx"
      },
      "source": [
        "## Mount your drive where you have the Columbia_E4511 folder"
      ]
    },
    {
      "cell_type": "code",
      "metadata": {
        "id": "hfMB7ovRM9gd"
      },
      "source": [
        "from google.colab import drive\n",
        "drive.mount('/content/drive')"
      ],
      "execution_count": null,
      "outputs": []
    },
    {
      "cell_type": "markdown",
      "metadata": {
        "id": "ZhbDsHb1Uf8Y"
      },
      "source": [
        "## Install packages"
      ]
    },
    {
      "cell_type": "code",
      "metadata": {
        "id": "hZqqarDEOtIE",
        "colab": {
          "base_uri": "https://localhost:8080/"
        },
        "outputId": "3fa7afa3-d738-4bba-ffa1-a49d3efd3917"
      },
      "source": [
        "! pip install molvs"
      ],
      "execution_count": null,
      "outputs": [
        {
          "output_type": "stream",
          "text": [
            "Requirement already satisfied: molvs in /usr/local/lib/python3.7/dist-packages (0.1.1)\n",
            "Requirement already satisfied: six in /usr/local/lib/python3.7/dist-packages (from molvs) (1.15.0)\n"
          ],
          "name": "stdout"
        }
      ]
    },
    {
      "cell_type": "code",
      "metadata": {
        "id": "RpXxNoFUPI4W",
        "colab": {
          "base_uri": "https://localhost:8080/"
        },
        "outputId": "0986ef4e-d80e-4bcb-e343-ff51a8eaa310"
      },
      "source": [
        "# thanks to https://web.navan.dev/posts/2020-07-01-Install-rdkit-colab/\n",
        "import sys\n",
        "import os\n",
        "import requests\n",
        "import subprocess\n",
        "import shutil\n",
        "from logging import getLogger, StreamHandler, INFO\n",
        "\n",
        "\n",
        "logger = getLogger(__name__)\n",
        "logger.addHandler(StreamHandler())\n",
        "logger.setLevel(INFO)\n",
        "\n",
        "\n",
        "def install(\n",
        "        chunk_size=4096,\n",
        "        file_name=\"Miniconda3-latest-Linux-x86_64.sh\",\n",
        "        url_base=\"https://repo.continuum.io/miniconda/\",\n",
        "        conda_path=os.path.expanduser(os.path.join(\"~\", \"miniconda\")),\n",
        "        rdkit_version=None,\n",
        "        add_python_path=True,\n",
        "        force=False):\n",
        "    \"\"\"install rdkit from miniconda\n",
        "    ```\n",
        "    import rdkit_installer\n",
        "    rdkit_installer.install()\n",
        "    ```\n",
        "    \"\"\"\n",
        "\n",
        "    python_path = os.path.join(\n",
        "        conda_path,\n",
        "        \"lib\",\n",
        "        \"python{0}.{1}\".format(*sys.version_info),\n",
        "        \"site-packages\",\n",
        "    )\n",
        "\n",
        "    if add_python_path and python_path not in sys.path:\n",
        "        logger.info(\"add {} to PYTHONPATH\".format(python_path))\n",
        "        sys.path.append(python_path)\n",
        "\n",
        "    if os.path.isdir(os.path.join(python_path, \"rdkit\")):\n",
        "        logger.info(\"rdkit is already installed\")\n",
        "        if not force:\n",
        "            return\n",
        "\n",
        "        logger.info(\"force re-install\")\n",
        "\n",
        "    url = url_base + file_name\n",
        "    python_version = \"{0}.{1}.{2}\".format(*sys.version_info)\n",
        "\n",
        "    logger.info(\"python version: {}\".format(python_version))\n",
        "\n",
        "    if os.path.isdir(conda_path):\n",
        "        logger.warning(\"remove current miniconda\")\n",
        "        shutil.rmtree(conda_path)\n",
        "    elif os.path.isfile(conda_path):\n",
        "        logger.warning(\"remove {}\".format(conda_path))\n",
        "        os.remove(conda_path)\n",
        "\n",
        "    logger.info('fetching installer from {}'.format(url))\n",
        "    res = requests.get(url, stream=True)\n",
        "    res.raise_for_status()\n",
        "    with open(file_name, 'wb') as f:\n",
        "        for chunk in res.iter_content(chunk_size):\n",
        "            f.write(chunk)\n",
        "    logger.info('done')\n",
        "\n",
        "    logger.info('installing miniconda to {}'.format(conda_path))\n",
        "    subprocess.check_call([\"bash\", file_name, \"-b\", \"-p\", conda_path])\n",
        "    logger.info('done')\n",
        "\n",
        "    logger.info(\"installing rdkit\")\n",
        "    subprocess.check_call([\n",
        "        os.path.join(conda_path, \"bin\", \"conda\"),\n",
        "        \"install\",\n",
        "        \"--yes\",\n",
        "        \"-c\", \"rdkit\",\n",
        "        \"python=={}\".format(python_version),\n",
        "        \"rdkit\" if rdkit_version is None else \"rdkit=={}\".format(rdkit_version)])\n",
        "    logger.info(\"done\")\n",
        "\n",
        "    import rdkit\n",
        "    logger.info(\"rdkit-{} installation finished!\".format(rdkit.__version__))\n",
        "\n",
        "\n",
        "if __name__ == \"__main__\":\n",
        "    install()"
      ],
      "execution_count": null,
      "outputs": [
        {
          "output_type": "stream",
          "text": [
            "rdkit is already installed\n",
            "rdkit is already installed\n",
            "rdkit is already installed\n"
          ],
          "name": "stderr"
        }
      ]
    },
    {
      "cell_type": "code",
      "metadata": {
        "id": "-Bk7HDtMNfi7",
        "colab": {
          "base_uri": "https://localhost:8080/"
        },
        "outputId": "c5c2d366-8298-4e15-af0f-ef15d86c6eae"
      },
      "source": [
        "sys.path.append('/content/drive/MyDrive/Columbia_E4511/AMPL_EDA')\n",
        "sys.path"
      ],
      "execution_count": null,
      "outputs": [
        {
          "output_type": "execute_result",
          "data": {
            "text/plain": [
              "['',\n",
              " '/content',\n",
              " '/env/python',\n",
              " '/usr/lib/python37.zip',\n",
              " '/usr/lib/python3.7',\n",
              " '/usr/lib/python3.7/lib-dynload',\n",
              " '/usr/local/lib/python3.7/dist-packages',\n",
              " '/usr/lib/python3/dist-packages',\n",
              " '/usr/local/lib/python3.7/dist-packages/IPython/extensions',\n",
              " '/root/.ipython',\n",
              " '/root/miniconda/lib/python3.7/site-packages',\n",
              " '/content/drive/MyDrive/Columbia_E4511/AMPL_EDA',\n",
              " '/content/drive/MyDrive/Columbia_E4511/AMPL_EDA',\n",
              " '/content/drive/MyDrive/Columbia_E4511/AMPL_EDA']"
            ]
          },
          "metadata": {
            "tags": []
          },
          "execution_count": 42
        }
      ]
    },
    {
      "cell_type": "markdown",
      "metadata": {
        "id": "daaIPMHmUuDr"
      },
      "source": [
        "## Load packages"
      ]
    },
    {
      "cell_type": "code",
      "metadata": {
        "id": "47JZtCAHheTd"
      },
      "source": [
        "%matplotlib inline\n",
        "# manipulate data\n",
        "import pandas as pd\n",
        "\n",
        "# plot data\n",
        "import numpy as np\n",
        "import matplotlib.pyplot as plt\n",
        "\n",
        "# curate data\n",
        "import struct_utils\n",
        "import curate_data\n",
        "import dist_metrics\n",
        "\n",
        "# visualize compound structures\n",
        "import tempfile\n",
        "from rdkit import Chem\n",
        "from rdkit.Chem import Draw\n",
        "from itertools import islice\n",
        "from IPython.display import Image, display\n",
        "\n",
        "# visualize data\n",
        "import seaborn as sns\n",
        "import matplotlib_venn as mpv\n",
        "from scipy.stats import pearsonr\n",
        "\n",
        "# set up visualization parameters\n",
        "sns.set_context(\"paper\")\n",
        "sns.set_style(\"whitegrid\")\n",
        "sns.set_palette(\"Set2\")\n",
        "pal = sns.color_palette()\n",
        "plt.rcParams['figure.figsize'] = [10,10]\n",
        "\n",
        "pd.set_option('display.max_columns',(90))\n",
        "pd.set_option('display.max_rows',(20))"
      ],
      "execution_count": null,
      "outputs": []
    },
    {
      "cell_type": "markdown",
      "metadata": {
        "id": "b6ZpBm-n-GvC"
      },
      "source": [
        "## Load data"
      ]
    },
    {
      "cell_type": "code",
      "metadata": {
        "id": "1RVw0WAm-L3Q"
      },
      "source": [
        "chembl = pd.read_csv(\"/content/drive/MyDrive/Columbia_E4511/HTR3A_ChEMBL.csv\")\n",
        "dtc = pd.read_csv(\"/content/drive/MyDrive/Columbia_E4511/HTR3A_DTC.csv\")\n",
        "excape = pd.read_csv(\"/content/drive/MyDrive/Columbia_E4511/HTR3A_Excape.csv\")"
      ],
      "execution_count": null,
      "outputs": []
    },
    {
      "cell_type": "markdown",
      "metadata": {
        "id": "FSU3n2TZ0KKK"
      },
      "source": [
        "# Examine data\n",
        "- what molecular (and other) identifiers exist for compounds from each database?\n",
        "- what assay response types are there in each file?\n",
        "- think about how we might combine these data sources together"
      ]
    },
    {
      "cell_type": "code",
      "metadata": {
        "id": "F-Gxgxo_h5-2"
      },
      "source": [
        "chembl.columns = chembl.columns.str.replace(' ','_') # get rid of annoying spaces\n",
        "print(chembl.shape)"
      ],
      "execution_count": null,
      "outputs": []
    },
    {
      "cell_type": "code",
      "metadata": {
        "id": "3VUB_5yg0EbD"
      },
      "source": [
        "chembl.head()"
      ],
      "execution_count": null,
      "outputs": []
    },
    {
      "cell_type": "code",
      "metadata": {
        "id": "9FJDxwQIW3An"
      },
      "source": [
        "chembl.Standard_Type.value_counts()"
      ],
      "execution_count": null,
      "outputs": []
    },
    {
      "cell_type": "markdown",
      "metadata": {
        "id": "WcLf97G8W0D6"
      },
      "source": [
        "## Exercise: Explore datasets\n",
        "- load dtc and excape datasets with pandas\n",
        "- explore the dataframes\n",
        "- answer questions below\n",
        "\n",
        "Number of data points in each file:\n",
        "\n",
        "Molecular identifiers from each file:\n",
        "\n",
        "Data types from each file:\n",
        "\n",
        "Data units in each file:\n",
        "\n",
        "What is the formula to translate IC50 to pIC50?\n",
        "\n",
        "What other information might be useful?"
      ]
    },
    {
      "cell_type": "code",
      "metadata": {
        "id": "oowuYqjX04uC"
      },
      "source": [
        "# explore here"
      ],
      "execution_count": null,
      "outputs": []
    },
    {
      "cell_type": "code",
      "metadata": {
        "id": "2g090S2T1OOB"
      },
      "source": [
        ""
      ],
      "execution_count": null,
      "outputs": []
    },
    {
      "cell_type": "code",
      "metadata": {
        "id": "cwQs17HP1OAe"
      },
      "source": [
        ""
      ],
      "execution_count": null,
      "outputs": []
    },
    {
      "cell_type": "code",
      "metadata": {
        "id": "OMOls0331N3v"
      },
      "source": [
        ""
      ],
      "execution_count": null,
      "outputs": []
    },
    {
      "cell_type": "markdown",
      "metadata": {
        "id": "_RpY3ZapzKSz"
      },
      "source": [
        "# EDA: assay data responses\n",
        "- What type of variable are the data responses?\n",
        "- What kind of ML model would you build to predict this data?\n",
        "- What kind of visualizations & analysis can you use to understand more about the data?"
      ]
    },
    {
      "cell_type": "code",
      "metadata": {
        "id": "kQa2m9lX1Wqt"
      },
      "source": [
        "chembl.head()"
      ],
      "execution_count": null,
      "outputs": []
    },
    {
      "cell_type": "code",
      "metadata": {
        "id": "ncvrHyxwIqKe"
      },
      "source": [
        "chembl.Standard_Units.unique()"
      ],
      "execution_count": null,
      "outputs": []
    },
    {
      "cell_type": "markdown",
      "metadata": {
        "id": "Xc2yCBKB8LwL"
      },
      "source": [
        "## **Curation step**: change units to be the same for all responses"
      ]
    },
    {
      "cell_type": "code",
      "metadata": {
        "id": "etUe6MK7IwQ3"
      },
      "source": [
        "# change uM to nM units so they're all the same\n",
        "chembl['Standard_Value_nM'] = np.where(chembl.Standard_Units == 'uM',\n",
        "                                           chembl.Standard_Value * 1000,\n",
        "                                           chembl.Standard_Value)"
      ],
      "execution_count": null,
      "outputs": []
    },
    {
      "cell_type": "markdown",
      "metadata": {
        "id": "fATSy8Tg9s1y"
      },
      "source": [
        "## EDA: Summarize, describe, plot data for analysis"
      ]
    },
    {
      "cell_type": "code",
      "metadata": {
        "id": "vBSBTEn419sA"
      },
      "source": [
        "# summary statistics\n",
        "chembl.describe()"
      ],
      "execution_count": null,
      "outputs": []
    },
    {
      "cell_type": "markdown",
      "metadata": {
        "id": "HJR3tLH74CGK"
      },
      "source": [
        "- **Why do some columns seem numeric but not give mean, SD? Examine chembl csv file - answer is some 'None' entries**\n"
      ]
    },
    {
      "cell_type": "code",
      "metadata": {
        "id": "IeqO3iPP3LXL"
      },
      "source": [
        "chembl=chembl.replace('None',np.nan)"
      ],
      "execution_count": null,
      "outputs": []
    },
    {
      "cell_type": "code",
      "metadata": {
        "id": "Ftvkvqtt5AtP"
      },
      "source": [
        "# even after removing None you have to recast the column as numeric\n",
        "numeric_cols=['Molecule_Max_Phase',\n",
        "       'Molecular_Weight', '#RO5_Violations', 'AlogP', 'Standard_Value_nM',\n",
        "       'pChEMBL_Value', 'Ligand_Efficiency_BEI', 'Ligand_Efficiency_LE',\n",
        "       'Ligand_Efficiency_LLE', 'Ligand_Efficiency_SEI']\n",
        "for col in numeric_cols:\n",
        "  chembl[col]=chembl[col].astype(float)"
      ],
      "execution_count": null,
      "outputs": []
    },
    {
      "cell_type": "code",
      "metadata": {
        "id": "TY67LezS7HRu"
      },
      "source": [
        "chembl.describe()"
      ],
      "execution_count": null,
      "outputs": []
    },
    {
      "cell_type": "code",
      "metadata": {
        "id": "ce0uXL9e0eTS"
      },
      "source": [
        "chembl[numeric_cols].hist(figsize=(10,10));"
      ],
      "execution_count": null,
      "outputs": []
    },
    {
      "cell_type": "markdown",
      "metadata": {
        "id": "YkcLiIBO8fk1"
      },
      "source": [
        "- **Note that pChembl value is better normalized than standard value**\n",
        "- **Recall that there are lots of different activity types / assays represented in the value columns. Let's split those up:**"
      ]
    },
    {
      "cell_type": "code",
      "metadata": {
        "id": "g0yAPOEw7fdZ"
      },
      "source": [
        "# examine standard values and pChembl values PER standard type\n",
        "chembl_types=chembl.pivot_table(index = 'Molecule_ChEMBL_ID', columns = 'Standard_Type', values='Standard_Value_nM', aggfunc='mean')\n",
        "display(chembl_types.describe())\n",
        "chembl_types.hist(figsize=(13,13));"
      ],
      "execution_count": null,
      "outputs": []
    },
    {
      "cell_type": "markdown",
      "metadata": {
        "id": "CPF-grlt-T6l"
      },
      "source": [
        "- **What do you notice about the standard values?**"
      ]
    },
    {
      "cell_type": "code",
      "metadata": {
        "id": "6Z88GB5J-ZUG"
      },
      "source": [
        "chembl_types=chembl.pivot_table(index = 'Molecule_ChEMBL_ID', columns = 'Standard_Type', values='pChEMBL_Value', aggfunc='mean')\n",
        "display(chembl_types.describe())\n",
        "chembl_types.hist(figsize=(6,6));"
      ],
      "execution_count": null,
      "outputs": []
    },
    {
      "cell_type": "markdown",
      "metadata": {
        "id": "XrdsPL5v_F-B"
      },
      "source": [
        "- **What do you notice about the pChEMBL values?**"
      ]
    },
    {
      "cell_type": "markdown",
      "metadata": {
        "id": "BFw18pjj_KV_"
      },
      "source": [
        "## Exercise: explore DTC and Excape data the same way\n",
        "- **Curation step:** add pValue column from raw measurements if it doesn't exist"
      ]
    },
    {
      "cell_type": "code",
      "metadata": {
        "id": "RenakH2C1jjw"
      },
      "source": [
        "# try it yourself here"
      ],
      "execution_count": null,
      "outputs": []
    },
    {
      "cell_type": "code",
      "metadata": {
        "id": "94GA8fyB1jeL"
      },
      "source": [
        ""
      ],
      "execution_count": null,
      "outputs": []
    },
    {
      "cell_type": "code",
      "metadata": {
        "id": "_y8HKxrZ1jXE"
      },
      "source": [
        ""
      ],
      "execution_count": null,
      "outputs": []
    },
    {
      "cell_type": "code",
      "metadata": {
        "id": "SyRkJylT1jMN"
      },
      "source": [
        ""
      ],
      "execution_count": null,
      "outputs": []
    },
    {
      "cell_type": "markdown",
      "metadata": {
        "id": "R27J-j8V4pJJ"
      },
      "source": [
        "## EDA & Exercise: compare pResponse values across all three datasets\n",
        "- create a histogram or kde plot with legend showing distributions for all three datasets on the same plot"
      ]
    },
    {
      "cell_type": "code",
      "metadata": {
        "id": "e-av6oYl5BEc"
      },
      "source": [
        ""
      ],
      "execution_count": null,
      "outputs": []
    },
    {
      "cell_type": "code",
      "metadata": {
        "id": "izQT5F7a5A0e"
      },
      "source": [
        ""
      ],
      "execution_count": null,
      "outputs": []
    },
    {
      "cell_type": "code",
      "metadata": {
        "id": "D0CoyjYE5AnO"
      },
      "source": [
        ""
      ],
      "execution_count": null,
      "outputs": []
    },
    {
      "cell_type": "code",
      "metadata": {
        "id": "G3fN5r0s4-yL"
      },
      "source": [
        ""
      ],
      "execution_count": null,
      "outputs": []
    },
    {
      "cell_type": "markdown",
      "metadata": {
        "id": "n09fMB0BFQSp"
      },
      "source": [
        "## Exercise: analyze & discuss\n",
        "- what value types you would model and why?\n",
        "- how would you use this data for a classification model?\n",
        "- do any of the three datasets include a column you could use for classification?"
      ]
    },
    {
      "cell_type": "markdown",
      "metadata": {
        "id": "gIm2FABM14gw"
      },
      "source": [
        ""
      ]
    },
    {
      "cell_type": "markdown",
      "metadata": {
        "id": "ZF5p-8yo1mvn"
      },
      "source": [
        "# EDA: Compounds\n",
        "- make sure smiles strings exist since that's what AMPL uses\n",
        "- compare compounds in each dataset\n",
        "- featurize with ECFP fingerprints\n",
        "- examine diversity of compound set"
      ]
    },
    {
      "cell_type": "markdown",
      "metadata": {
        "id": "AxgJzcg-WbWq"
      },
      "source": [
        "## **Curation step** & exercise: Get SMILES for DTC data from chemical identifiers\n",
        "Since AMPL and other modeling pipelines use SMILES strings, we will use these as our primary data curation tool.\n",
        "1. open DTC file in google sheets / excel\n",
        "2. copy/paste the compound ID (ChEMBLXXXXXXX) column into pubchem ID exchange service: https://pubchem.ncbi.nlm.nih.gov/idexchange/idexchange.cgi\n",
        "  - did you get the whole column??\n",
        "  - Be sure to select the correct registry ID for the input id list\n",
        "  - Select \"Same CID\" and SMILES as output\n",
        "\n",
        "6. upload resulting text file into Columbia_E4511 folder"
      ]
    },
    {
      "cell_type": "code",
      "metadata": {
        "id": "af1WGtM1VvVP"
      },
      "source": [
        "# open file from pubchem ID exchange service\n",
        "dtc_smiles = pd.read_csv(\"/content/drive/MyDrive/Columbia_E4511/4126088262339275864.txt\", sep=\"\\t\", header=None)\n",
        "dtc_smiles=dtc_smiles.rename(columns = {0:'ChEMBL_ID',1:'SMILES'})\n",
        "dtc_smiles.head()"
      ],
      "execution_count": null,
      "outputs": []
    },
    {
      "cell_type": "code",
      "metadata": {
        "id": "cq75ZDrwY7fB"
      },
      "source": [
        "# map chembl id to smiles using a dict\n",
        "dtc['SMILES'] = dtc['Compound_ID'].map(dict(zip(dtc_smiles.ChEMBL_ID, dtc_smiles.SMILES)))"
      ],
      "execution_count": null,
      "outputs": []
    },
    {
      "cell_type": "code",
      "metadata": {
        "id": "4eCK3TOmelj4"
      },
      "source": [
        "# what's missing?\n",
        "print(\"No ChemblID in DTC:\", len(dtc[dtc['Compound_ID'].isna()]))\n",
        "print(\"No SMILES from ChemblID in DTC:\", len(dtc[dtc.SMILES.isna()]))"
      ],
      "execution_count": null,
      "outputs": []
    },
    {
      "cell_type": "markdown",
      "metadata": {
        "id": "MgURrDBafLkX"
      },
      "source": [
        "## Exercise: try to recover the missing smiles from other chemical identifiers in the DTC file."
      ]
    },
    {
      "cell_type": "code",
      "metadata": {
        "id": "nJWr0On9j4qm"
      },
      "source": [
        "# try it yourself here"
      ],
      "execution_count": null,
      "outputs": []
    },
    {
      "cell_type": "code",
      "metadata": {
        "id": "VVRThaah34iO"
      },
      "source": [
        ""
      ],
      "execution_count": null,
      "outputs": []
    },
    {
      "cell_type": "code",
      "metadata": {
        "id": "juK9Ppb734bt"
      },
      "source": [
        ""
      ],
      "execution_count": null,
      "outputs": []
    },
    {
      "cell_type": "code",
      "metadata": {
        "id": "jLNxjbTY34XY"
      },
      "source": [
        ""
      ],
      "execution_count": null,
      "outputs": []
    },
    {
      "cell_type": "markdown",
      "metadata": {
        "id": "WVefoYj_yH7W"
      },
      "source": [
        "## EDA: Examine compound overlaps\n",
        "Start with questions you have about the compounds at this point in time, such as:\n",
        "- what compounds are in each set? do they overlap?\n",
        "- are the compounds diverse or all very similar to each other?"
      ]
    },
    {
      "cell_type": "code",
      "metadata": {
        "id": "4Usylv2ZjJOP"
      },
      "source": [
        "# overlaps from SMILES strings\n",
        "mpv.venn3([set(chembl.Smiles),\n",
        "           set(dtc.SMILES),\n",
        "           set(excape.SMILES)],\n",
        "          set_labels = ['ChEMBL', 'DTC','EXCAPE']);"
      ],
      "execution_count": null,
      "outputs": []
    },
    {
      "cell_type": "code",
      "metadata": {
        "id": "g1zK7LZnpSOk"
      },
      "source": [
        "# venn diagram for overlapping ChEMBL IDs - mpv requires sets not lists\n",
        "mpv.venn2([set(chembl.Molecule_ChEMBL_ID), set(dtc.Compound_ID)], set_labels=['ChEMBL','DTC']);"
      ],
      "execution_count": null,
      "outputs": []
    },
    {
      "cell_type": "markdown",
      "metadata": {
        "id": "81E905aLloQD"
      },
      "source": [
        "The chembl IDs overlap, why not the smiles strings? One explanation is that each database's SMILES string representations are slightly different. Answer? **STANDARDIZE the smiles strings.**"
      ]
    },
    {
      "cell_type": "markdown",
      "metadata": {
        "id": "ZZbjJGxXrHRS"
      },
      "source": [
        "## **Curation step:** Standardize smiles strings, drop rows without base smiles"
      ]
    },
    {
      "cell_type": "code",
      "metadata": {
        "id": "p_qaDEC-fFcr"
      },
      "source": [
        "chembl['base_rdkit_smiles'] = chembl.Smiles.apply(struct_utils.base_smiles_from_smiles)\n",
        "print(len(chembl.Smiles))\n",
        "print(len(chembl.Smiles.unique()))\n",
        "print(len(chembl.base_rdkit_smiles.unique()))"
      ],
      "execution_count": null,
      "outputs": []
    },
    {
      "cell_type": "code",
      "metadata": {
        "id": "8HXLUcPEYHuK"
      },
      "source": [
        "chembl[chembl.base_rdkit_smiles=='']"
      ],
      "execution_count": null,
      "outputs": []
    },
    {
      "cell_type": "code",
      "metadata": {
        "id": "smZxCtRxY8Pt"
      },
      "source": [
        "chembl=chembl.replace('',np.nan)\n",
        "chembl[chembl.base_rdkit_smiles.isna()]"
      ],
      "execution_count": null,
      "outputs": []
    },
    {
      "cell_type": "code",
      "metadata": {
        "id": "CxWs7dCMZQj5"
      },
      "source": [
        "chembl=chembl[~chembl.base_rdkit_smiles.isna()]"
      ],
      "execution_count": null,
      "outputs": []
    },
    {
      "cell_type": "markdown",
      "metadata": {
        "id": "fYRwB3YtrjXD"
      },
      "source": [
        "## Exercise: standardize other datasets\n",
        "- what do you notice about the number of unique smiles strings before and after standardization?\n",
        "- what does this mean for the nature of the compounds in a given dataset?\n",
        "- hint: look at chemical identifiers that have the same base_rdkit_smiles, and the 'DB' column in excape"
      ]
    },
    {
      "cell_type": "code",
      "metadata": {
        "id": "he0DX-BI3z-n"
      },
      "source": [
        ""
      ],
      "execution_count": null,
      "outputs": []
    },
    {
      "cell_type": "code",
      "metadata": {
        "id": "WkIdxjxI31r5"
      },
      "source": [
        ""
      ],
      "execution_count": null,
      "outputs": []
    },
    {
      "cell_type": "code",
      "metadata": {
        "id": "6qWG9cD33z4V"
      },
      "source": [
        ""
      ],
      "execution_count": null,
      "outputs": []
    },
    {
      "cell_type": "code",
      "metadata": {
        "id": "3YzlU_Uq3zyk"
      },
      "source": [
        ""
      ],
      "execution_count": null,
      "outputs": []
    },
    {
      "cell_type": "markdown",
      "metadata": {
        "id": "C1PpdlCzWprz"
      },
      "source": [
        "## **Curation step:** Save standardized datasets"
      ]
    },
    {
      "cell_type": "code",
      "metadata": {
        "id": "mgzGnZr1WhE8"
      },
      "source": [
        "chembl.to_csv(\"/content/drive/MyDrive/Columbia_E4511/HTR3A_ChEMBL_SMILES.csv\")\n",
        "dtc.to_csv(\"/content/drive/MyDrive/Columbia_E4511/HTR3A_DTC_SMILES.csv\")\n",
        "excape.to_csv(\"/content/drive/MyDrive/Columbia_E4511/HTR3A_Excape_SMILES.csv\")"
      ],
      "execution_count": null,
      "outputs": []
    },
    {
      "cell_type": "markdown",
      "metadata": {
        "id": "WmzIqjLVr5iA"
      },
      "source": [
        "## Exercise: examine compound overlaps from standardized smiles strings\n",
        "- create venn diagram with 3 circles for all 3 datasets"
      ]
    },
    {
      "cell_type": "code",
      "metadata": {
        "id": "8g_YcFxz9GTd"
      },
      "source": [
        ""
      ],
      "execution_count": null,
      "outputs": []
    },
    {
      "cell_type": "code",
      "metadata": {
        "id": "C-mtK7pB9GNK"
      },
      "source": [
        ""
      ],
      "execution_count": null,
      "outputs": []
    },
    {
      "cell_type": "code",
      "metadata": {
        "id": "K2G1mBPX9F4o"
      },
      "source": [
        ""
      ],
      "execution_count": null,
      "outputs": []
    },
    {
      "cell_type": "code",
      "metadata": {
        "id": "zoH9m8MZ9Fdb"
      },
      "source": [
        ""
      ],
      "execution_count": null,
      "outputs": []
    },
    {
      "cell_type": "markdown",
      "metadata": {
        "id": "2LJS3rpSx0tt"
      },
      "source": [
        "## EDA: Examine compound diversity"
      ]
    },
    {
      "cell_type": "code",
      "metadata": {
        "id": "_14zU-tcmtwM"
      },
      "source": [
        "import diversity_plots as dp\n",
        "sns.set_context('poster')"
      ],
      "execution_count": null,
      "outputs": []
    },
    {
      "cell_type": "code",
      "metadata": {
        "id": "4zcDm2QZZsod"
      },
      "source": [
        "dp.plot_tani_dist_distr(chembl, 'base_rdkit_smiles', 'ChEMBL Dataset')"
      ],
      "execution_count": null,
      "outputs": []
    },
    {
      "cell_type": "code",
      "metadata": {
        "id": "B12r7JSpoWUK"
      },
      "source": [
        "dp.diversity_plots('/content/drive/MyDrive/Columbia_E4511/HTR3A_ChEMBL_SMILES.csv', \n",
        "                   id_col ='Molecule_ChEMBL_ID', smiles_col = 'base_rdkit_smiles', \n",
        "                   is_base_smiles=True, response_col = 'pChEMBL_Value')"
      ],
      "execution_count": null,
      "outputs": []
    },
    {
      "cell_type": "markdown",
      "metadata": {
        "id": "WgARGg6Aicny"
      },
      "source": [
        "## Exercise: create plots for DTC, Excape\n",
        "- What happens when you change the ecfp radius?\n",
        "- bonus: try creating MCS plots by looking at the documentation of the diversity_plots function\n",
        "- warning: it is very slow for >1000 ish compounds. \n",
        "- extra bonus: select a random subset of 1000 compounds and create the MCS plots."
      ]
    },
    {
      "cell_type": "code",
      "metadata": {
        "id": "WqWAvbVY51td"
      },
      "source": [
        ""
      ],
      "execution_count": null,
      "outputs": []
    },
    {
      "cell_type": "code",
      "metadata": {
        "id": "HuMKvrLP51pg"
      },
      "source": [
        ""
      ],
      "execution_count": null,
      "outputs": []
    },
    {
      "cell_type": "code",
      "metadata": {
        "id": "sT7-ExPI51jw"
      },
      "source": [
        ""
      ],
      "execution_count": null,
      "outputs": []
    },
    {
      "cell_type": "code",
      "metadata": {
        "id": "N1mqmBAv51dx"
      },
      "source": [
        ""
      ],
      "execution_count": null,
      "outputs": []
    },
    {
      "cell_type": "markdown",
      "metadata": {
        "id": "RnMwZoqspl93"
      },
      "source": [
        "## Exercise: analyze and discuss these plots.\n",
        "- what are Morgan fingerprints (ecfp)? \n",
        "  - what does radius mean?\n",
        "  - what does a bit in an ECFP vector correspond to?\n",
        "  - what radius and vector length are used in these functions?\n",
        "  - hint: look at the .py files for more info\n",
        "- what is tanimoto distance? What do values closer to zero or closer to one mean?\n",
        "- do you think your sets of compounds are diverse?\n",
        "- what do you observe from the 2D projection of compounds?\n",
        "- are there any similarities between groups of compounds in your datasets?"
      ]
    },
    {
      "cell_type": "markdown",
      "metadata": {
        "id": "gtk70Nne9Wxk"
      },
      "source": [
        ""
      ]
    }
  ]
}